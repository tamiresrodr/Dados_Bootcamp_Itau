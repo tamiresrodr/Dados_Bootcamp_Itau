{
 "cells": [
  {
   "cell_type": "markdown",
   "id": "f380efb9",
   "metadata": {},
   "source": [
    "# Banco de Dados"
   ]
  },
  {
   "cell_type": "markdown",
   "id": "509d1fa1",
   "metadata": {},
   "source": [
    "# Lista 1\n",
    "\n",
    "\n",
    "Exercícios\n",
    "Enviar para o email filipe.furlan@letcode.com.br até 2021/07/31 um arquivo de texto (785_firstname_lastname_aula01.sql) com a resolução dos exercicios abaixo (exceto o 6).\n",
    "\n",
    "IMPORTANTE: Inserir uma linha de comentário -- exercicio XX (XX = 1, 2A, 2B etc) antes de cada solução.\n",
    "\n"
   ]
  },
  {
   "cell_type": "markdown",
   "id": "1b8cbea2",
   "metadata": {},
   "source": [
    "1. Selecione os id's únicos de territórios da tabela employee_territories.\n",
    "1. Selecione da tabela empolyees:\n",
    "    1. Todos os nomes dos empregados;\n",
    "    1. Os sobrenomes distintos dos empregrados;\n",
    "    1. Empregados que nasceram após 1970;\n",
    "    1. Empregados que foram contratados em 1993;\n",
    "    1. Empregados que nasceram entre 1980 e 1985 (inclusos);\n",
    "    1. Empregados que nasceram em 1963 e foram contratados em 1993;\n",
    "    1. Todos os empregrados que reportam o chefe de id 5;\n",
    "    1. Todos os empregados que moram em Seattle ou Kirkland.\n",
    "1. Selecione da tabela order_details:\n",
    "    1. Produtos (product_id) com mais de 50 unidades vendidas;\n",
    "    1. Produtos com mais de 0.2 de desconto;\n",
    "    1. Produtos com 0.05 ou menos de desconto;\n",
    "1. Selecione da tabels orders:\n",
    "    1. Ordens realizadas antes Setembro de 1996.\n",
    "    1. Ordens enviadas em Setembro de 1996.\n",
    "    1. Ordens que possuam o campo região preenchido.\n",
    "    1. As primeiras 5 linhas da tabela, reescrevendo o nome das colunas de data em português.\n",
    "1. Selecione da tabela suppliers:\n",
    "    1. Todos os contatos cujo nome comece com a letra M;\n",
    "    1. Todos os contatos que tenham a palavra manager no titulo;\n",
    "    1. Todos os contatos que trabalhem com vendas e morem nos países nórdicos.\n",
    "1. Use o arquivo `estados_cidades.sql` para criar um novo schema no Postgres (**será utilizado nas próximas aulas!**)."
   ]
  },
  {
   "cell_type": "markdown",
   "id": "4657f9a5",
   "metadata": {
    "ExecuteTime": {
     "end_time": "2021-07-13T22:10:20.012898Z",
     "start_time": "2021-07-13T22:10:19.993092Z"
    }
   },
   "source": [
    "--13/07/2021\n",
    "--Exercicio1\n",
    "SELECT * FROM employee_territories;\n",
    "--1-Selecione os id's únicos de territórios da tabela employee_territories.\n",
    "SELECT DISTINCT(employee_id) FROM employee_territories;\n",
    "--temos apenas id's únicos na coluna employee_id na territory_id não temos id's únicos.\n",
    "\n",
    "--Exercicio2\n",
    "SELECT * FROM employees;\n",
    "--A Todos os nomes dos empregados;\n",
    "SELECT first_name FROM employees;\n",
    "--B Os sobrenomes distintos dos empregrados;\n",
    "SELECT last_name FROM employees;\n",
    "--C Empregados que nasceram após 1970;\n",
    "SELECT first_name,last_name,birth_date FROM employees\n",
    "WHERE birth_date >= '1971-01-01' ;\n",
    "--Não temos empregados que nasceram após 1970\n",
    "--D Empregados que foram contratados em 1993;\n",
    "SELECT first_name,last_name,hire_date FROM employees\n",
    "WHERE hire_date >= '1993-01-01' and hire_date <= '1993-12-31' ;\n",
    "--E Empregados que nasceram entre 1980 e 1985 (inclusos);\n",
    "SELECT first_name,last_name,birth_date FROM employees\n",
    "WHERE birth_date >= '1980-01-01' and birth_date <= '1985-12-31' ;\n",
    "--F Empregados que nasceram em 1963 e foram contratados em 1993;\n",
    "SELECT first_name,last_name,birth_date,hire_date FROM employees\n",
    "WHERE birth_date >= '1963-01-01' and birth_date <= '1963-12-31' and hire_date>='1993-01-01' and hire_date<='1993-12-31';\n",
    "--G Todos os empregrados que reportam o chefe de id 5;\n",
    "SELECT first_name,last_name,reports_to FROM employees WHERE reports_to=5;\n",
    "--H Todos os empregados que moram em Seattle ou Kirkland;\n",
    "SELECT * FROM employees;\n",
    "SELECT first_name,last_name,city FROM employees WHERE city='Seattle' or city='Kirkland';\n",
    "\n",
    "--Exercicio3\n",
    "--Selecione da tabela order_details:\n",
    "SELECT * FROM order_details;\n",
    "--A Produtos (product_id) com mais de 50 unidades vendidas;\n",
    "SELECT product_id,quantity FROM order_details WHERE quantity>50;\n",
    "--B Produtos com mais de 0.2 de desconto;\n",
    "SELECT product_id,discount FROM order_details WHERE discount > 0.2;\n",
    "--Coloquei apenas maior mas mesmo assim consta os iguais.\n",
    "--C Produtos com 0.05 ou menos de desconto;\n",
    "SELECT product_id,discount FROM order_details WHERE discount<=0.05;\n",
    "\n",
    "--Exercicio4\n",
    "--Selecione da tabels orders:\n",
    "SELECT * FROM orders;\n",
    "--A Ordens realizadas antes Setembro de 1996.\n",
    "\n",
    "SELECT * FROM orders WHERE order_date< '1996-09-01';\n",
    "--B Ordens enviadas em Setembro de 1996.\n",
    "SELECT * FROM orders WHERE order_date>= '1996-09-01' and order_date<= '1996-09-30';\n",
    "--C Ordens que possuam o campo região preenchido.\n",
    "SELECT * FROM orders WHERE ship_region IS NOT null;\n",
    "--D As primeiras 5 linhas da tabela, reescrevendo o nome das colunas de data em português.\n",
    "ALTER TABLE orders RENAME COLUMN order_date TO ordens_data;\n",
    "ALTER TABLE orders RENAME COLUMN required_date TO requerida_data;\n",
    "ALTER TABLE orders RENAME COLUMN shipped_date TO expedicao_data;\n",
    "SELECT * FROM orders limit(5);\n",
    "--Exercicio5\n",
    "--Selecione da tabela suppliers:\n",
    "--A Todos os contatos cujo nome comece com a letra M;\n",
    "SELECT * FROM suppliers;\n",
    "SELECT * FROM suppliers WHERE contact_name LIKE 'M%';\n",
    "--B Todos os contatos que tenham a palavra manager no titulo;\n",
    "SELECT * FROM suppliers WHERE contact_title LIKE '%Manager%';\n",
    "--C Todos os contatos que trabalhem com vendas e morem nos países nórdicos.\n",
    "SELECT * FROM suppliers WHERE contact_title LIKE '%Sales%' and country in ('Sweden','Denmark','Norway','Iceland','Finland');\n",
    "\n",
    "\n",
    "\n"
   ]
  },
  {
   "cell_type": "markdown",
   "id": "1b1d272d",
   "metadata": {
    "ExecuteTime": {
     "end_time": "2021-07-13T22:08:38.207912Z",
     "start_time": "2021-07-13T22:08:38.192475Z"
    }
   },
   "source": []
  },
  {
   "cell_type": "code",
   "execution_count": null,
   "id": "dd93f492",
   "metadata": {},
   "outputs": [],
   "source": []
  }
 ],
 "metadata": {
  "kernelspec": {
   "display_name": "Python 3",
   "language": "python",
   "name": "python3"
  },
  "language_info": {
   "codemirror_mode": {
    "name": "ipython",
    "version": 3
   },
   "file_extension": ".py",
   "mimetype": "text/x-python",
   "name": "python",
   "nbconvert_exporter": "python",
   "pygments_lexer": "ipython3",
   "version": "3.8.8"
  },
  "toc": {
   "base_numbering": 1,
   "nav_menu": {},
   "number_sections": true,
   "sideBar": true,
   "skip_h1_title": false,
   "title_cell": "Table of Contents",
   "title_sidebar": "Contents",
   "toc_cell": false,
   "toc_position": {},
   "toc_section_display": true,
   "toc_window_display": true
  }
 },
 "nbformat": 4,
 "nbformat_minor": 5
}
