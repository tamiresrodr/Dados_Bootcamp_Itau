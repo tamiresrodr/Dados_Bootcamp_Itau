{
 "cells": [
  {
   "cell_type": "markdown",
   "id": "47417533",
   "metadata": {},
   "source": [
    "Faça um programa que peça ao usuário um número e imprima todos os números de um até o número dado.\n",
    "\n",
    "Exemplo:\n",
    "\n",
    "digite: 5\n",
    "\n",
    "imprime: 1 2 3 4 5"
   ]
  },
  {
   "cell_type": "code",
   "execution_count": null,
   "id": "c13997d4",
   "metadata": {
    "ExecuteTime": {
     "end_time": "2021-07-09T19:21:18.027383Z",
     "start_time": "2021-07-09T19:21:16.520874Z"
    }
   },
   "outputs": [],
   "source": [
    "num=int(input('Informe um número:'))\n",
    "lista=[]\n",
    "count=1\n",
    "while count<=num:\n",
    "    print(count)\n",
    "    count=count+1\n",
    "    "
   ]
  },
  {
   "cell_type": "markdown",
   "id": "3694e445",
   "metadata": {},
   "source": [
    "Peça ao usuário para digitar um número e imprima o fatorial de n."
   ]
  },
  {
   "cell_type": "code",
   "execution_count": null,
   "id": "194cf89a",
   "metadata": {
    "ExecuteTime": {
     "end_time": "2021-07-12T12:45:11.965158Z",
     "start_time": "2021-07-12T12:45:10.895899Z"
    }
   },
   "outputs": [],
   "source": [
    "n=int(input('Informe um número:'))\n",
    "count=1\n",
    "fatorial=1\n",
    "while count<=n:\n",
    "    num=print('{} '.format(count),end='') #end='' não pula de linha\n",
    "    fatorial=fatorial*count\n",
    "    count=count+1\n",
    "print('Fatorial é',fatorial)"
   ]
  },
  {
   "cell_type": "code",
   "execution_count": null,
   "id": "b568a322",
   "metadata": {
    "ExecuteTime": {
     "end_time": "2021-07-12T12:56:27.601936Z",
     "start_time": "2021-07-12T12:56:26.419551Z"
    }
   },
   "outputs": [],
   "source": [
    "n=int(input('Informe um número:'))\n",
    "count=n\n",
    "fatorial=1\n",
    "print('Calculando {}!'.format(n))\n",
    "while count>0:\n",
    "    num=print('{}x'.format(count),end='') #end='' não pula de linha    \n",
    "    print(' x ' if count>1 else' = ',end='')\n",
    "    fatorial=fatorial*count\n",
    "    count=count-1\n",
    "    \n",
    "print(fatorial)\n"
   ]
  },
  {
   "cell_type": "code",
   "execution_count": null,
   "id": "0e34d374",
   "metadata": {
    "ExecuteTime": {
     "end_time": "2021-07-12T12:36:36.540389Z",
     "start_time": "2021-07-12T12:36:34.995453Z"
    }
   },
   "outputs": [],
   "source": [
    "from math import factorial\n",
    "\n",
    "num= int(input('Informe um número:'))\n",
    "type(num)\n",
    "f=factorial(num)\n",
    "\n",
    "print('O Fatorial é',f)\n",
    "print('O fatorial de {} é {}.'.format(num,f))"
   ]
  },
  {
   "cell_type": "markdown",
   "id": "6b68ec29",
   "metadata": {},
   "source": [
    "Peça ao usuário para digitar um número N e some todos os números de 1 a N utilizando o laço de repetição while."
   ]
  },
  {
   "cell_type": "code",
   "execution_count": null,
   "id": "d0fb2f45",
   "metadata": {
    "ExecuteTime": {
     "end_time": "2021-07-11T20:12:54.672710Z",
     "start_time": "2021-07-11T20:12:39.509740Z"
    }
   },
   "outputs": [],
   "source": [
    "n=int(input('Informe um número:'))\n",
    "count=1\n",
    "soma=0\n",
    "while count<=n:\n",
    "    soma=soma+count\n",
    "    count=count+1\n",
    "print('A soma é',soma)"
   ]
  },
  {
   "cell_type": "markdown",
   "id": "162246d6",
   "metadata": {},
   "source": [
    "Faça um programa que imprima a tabuada do 9 (de 9*1 a 9*10) usando loops."
   ]
  },
  {
   "cell_type": "code",
   "execution_count": null,
   "id": "cbd35365",
   "metadata": {
    "ExecuteTime": {
     "end_time": "2021-07-11T20:16:49.760576Z",
     "start_time": "2021-07-11T20:16:49.753538Z"
    }
   },
   "outputs": [],
   "source": [
    "print('Tabuada')\n",
    "count=1\n",
    "while count<=10:\n",
    "    resp=9*count\n",
    "    print('9 x',count,'=',resp)\n",
    "    count=count+1\n",
    "\n",
    "    "
   ]
  },
  {
   "cell_type": "markdown",
   "id": "8ab86c61",
   "metadata": {},
   "source": [
    "Faça um programa que recebe um número inteiro do usuário e imprime na tela a quantidade de divisores desse número e quais são eles.\n",
    "\n",
    "O resto da divisão igual a zero é um divisor.\n",
    "Exemplo 1\n",
    "input: 10\n",
    "output:\n",
    "Divisor: 1\n",
    "Divisor: 2\n",
    "Divisor: 5\n",
    "Total de divisores: 3\n",
    "Exemplo 2\n",
    "input: 15\n",
    "output:\n",
    "Divisor: 1\n",
    "Divisor: 3\n",
    "Divisor: 5\n",
    "Total de divisores: 3\n"
   ]
  },
  {
   "cell_type": "code",
   "execution_count": null,
   "id": "f32ed439",
   "metadata": {
    "ExecuteTime": {
     "end_time": "2021-07-11T21:13:16.926156Z",
     "start_time": "2021-07-11T21:13:13.799640Z"
    }
   },
   "outputs": [],
   "source": [
    "a = 1\n",
    "num = int(input(\"Digite o número: \"))\n",
    "lista_div=[]\n",
    "while a <= num:\n",
    "    x = num % a  #resto da divisão\n",
    "    if x == 0:\n",
    "        lista_div.append(a)\n",
    "    a=a+1\n",
    "quantidade=len(lista_div)\n",
    "print('Divisores:',lista_div,'Quantidade:',quantidade)"
   ]
  },
  {
   "cell_type": "markdown",
   "id": "a9809ec7",
   "metadata": {
    "ExecuteTime": {
     "end_time": "2021-07-11T21:10:14.658042Z",
     "start_time": "2021-07-11T21:10:13.201310Z"
    }
   },
   "source": [
    "Faça um programa, usando loops, que peça para um usuário digitar um número e que só finaliza quando o usuário digitar 0. Ao final imprima a soma de todos os números digitados.\n"
   ]
  },
  {
   "cell_type": "code",
   "execution_count": null,
   "id": "d5a1a30d",
   "metadata": {
    "ExecuteTime": {
     "end_time": "2021-07-11T21:27:06.529000Z",
     "start_time": "2021-07-11T21:27:01.059848Z"
    }
   },
   "outputs": [],
   "source": [
    "num=int(input('Digite um número:'))\n",
    "lista=[]\n",
    "while num!=0:\n",
    "    lista.append(num)\n",
    "    num=int(input('Digite um número:'))\n",
    "\n",
    "total=sum(lista)\n",
    "print(lista)\n",
    "print(total)\n",
    "\n",
    "    \n",
    "    \n",
    "\n",
    "    \n",
    "    "
   ]
  },
  {
   "cell_type": "markdown",
   "id": "e3b87fe8",
   "metadata": {},
   "source": [
    "Faça um programa que sorteia um número N e peça para o usuário adivinhar o número sorteado. A cada resposta errada, o seu programa deve imprimir um aviso dizendo que a resposta está errada e pedir novamente uma resposta ao usuário.\n",
    "\n",
    "Para a realização desse exercício, utilize alguma função da biblioteca random (e.g. randint())."
   ]
  },
  {
   "cell_type": "code",
   "execution_count": null,
   "id": "16bd53db",
   "metadata": {
    "ExecuteTime": {
     "end_time": "2021-07-11T21:38:39.491918Z",
     "start_time": "2021-07-11T21:38:35.150592Z"
    }
   },
   "outputs": [],
   "source": [
    "import random\n",
    "sorteio=random.randint(1,3)\n",
    "num=int(input('Você deve adivinhar o número escolhido pelo computador.Qual é o número?'))\n",
    "\n",
    "while num!=sorteio: \n",
    "        print('Por favor,tente outra vez!')\n",
    "        num=int(input('Você deve adivinhar o número escolhido pelo computador.Qual é o número?'))\n",
    "print('Parabéns,você acertou!')\n"
   ]
  },
  {
   "cell_type": "markdown",
   "id": "03710019",
   "metadata": {},
   "source": [
    "Faça um programa que peça para o usuário digitar a idade, o salário e o sexo de uma pessoa até que as entradas digitadas sejam válidas.\n",
    "\n",
    "a. Idade: entre 0 e 150;\n",
    "\n",
    "b. Salário: maior que 0;\n",
    "\n",
    "c. Sexo: M, F ou Outro."
   ]
  },
  {
   "cell_type": "code",
   "execution_count": null,
   "id": "550c1cca",
   "metadata": {
    "ExecuteTime": {
     "end_time": "2021-07-12T00:08:12.141599Z",
     "start_time": "2021-07-12T00:07:40.410098Z"
    }
   },
   "outputs": [],
   "source": [
    "\n",
    "idade=int(input('Informe a idade:'))\n",
    "while (idade<0 or idade>150):\n",
    "    print('Informação errada!')\n",
    "    idade=int(input('Informe a idade:'))\n",
    "print('Informação Certa!!')\n",
    "\n",
    "salario=int(input('Informe o salário:'))\n",
    "while salario<0:\n",
    "    print('Informação errada!')\n",
    "    salario=int(input('Informe o salário:'))\n",
    "print('Informação Certa!!')\n",
    "\n",
    "sexo=str(input('Informe o sexo:'))\n",
    "while sexo!='m' or sexo!='f' or sexo!='outros':\n",
    "    print('Informação errada!')\n",
    "    sexo=str(input('Informe o sexo:'))\n",
    "print('Informação Certa!!')\n"
   ]
  },
  {
   "cell_type": "markdown",
   "id": "6f23de28",
   "metadata": {
    "ExecuteTime": {
     "end_time": "2021-07-12T00:02:42.460115Z",
     "start_time": "2021-07-12T00:02:40.204879Z"
    }
   },
   "source": [
    "Desafio! - Calcule a soma de até mil termos da série 1 + 1/2 + 1/4 + 1/8 + 1/16 + ...\n",
    "\n",
    "Dica: Use três variáveis:\n",
    "\n",
    "• um contador, que começa em zero;\n",
    "\n",
    "• uma variável para a soma de todos os termos, que também começa em zero;\n",
    "\n",
    "• uma variável para cada termo, que começa em 1 e a cada loop é dividida por 2.\n",
    "\n",
    "A repetição da soma de mil termos pode ser feita com a função while contador < 1000."
   ]
  },
  {
   "cell_type": "code",
   "execution_count": null,
   "id": "c1ea904b",
   "metadata": {
    "ExecuteTime": {
     "end_time": "2021-07-12T00:32:30.267050Z",
     "start_time": "2021-07-12T00:32:30.244850Z"
    }
   },
   "outputs": [],
   "source": [
    "count=0\n",
    "soma=0\n",
    "num=1\n",
    "\n",
    "while count<1000:\n",
    "    soma=soma + (1/num)\n",
    "    num=2*num\n",
    "    count=count+1\n",
    "print(soma)\n"
   ]
  },
  {
   "cell_type": "markdown",
   "id": "c8de8aa0",
   "metadata": {},
   "source": [
    "Super Desafio! - Calcule a soma de mil termos dos inversos dos fatoriais: 1/(1!) + 1/(2!) + 1/(3!) + 1/(4!) + ...\n",
    "\n",
    "Dica: Assim como no exercício anterior use três variáveis: um contador; uma variável para a soma; e uma variável para os termos. Lembre-se de que 4! = 4*3*2*1 que também é igual a 4*3!."
   ]
  },
  {
   "cell_type": "code",
   "execution_count": null,
   "id": "1049226a",
   "metadata": {
    "ExecuteTime": {
     "end_time": "2021-07-12T00:42:59.574420Z",
     "start_time": "2021-07-12T00:42:58.878363Z"
    }
   },
   "outputs": [],
   "source": [
    "count=1\n",
    "soma=0\n",
    "num=1\n",
    "\n",
    "while count<=1000:\n",
    "    soma=soma + (1/num)\n",
    "    print('soma',soma)\n",
    "    num=num*count\n",
    "    print('num',num)\n",
    "    count=count+1\n",
    "\n"
   ]
  },
  {
   "cell_type": "code",
   "execution_count": null,
   "id": "4feec631",
   "metadata": {
    "ExecuteTime": {
     "end_time": "2021-07-12T13:16:21.275583Z",
     "start_time": "2021-07-12T13:16:20.049717Z"
    }
   },
   "outputs": [],
   "source": [
    "n=int(input('Informe um número:'))\n",
    "count=n\n",
    "soma=0\n",
    "f=1\n",
    "print('Calculando 1/{}!'.format(n))\n",
    "while count>0:\n",
    "    num=print('{}'.format(count),end='') #end='' não pula de linha    \n",
    "    f=f*count\n",
    "    print('f:',f)\n",
    "    \n",
    "    soma=soma+(n/f)\n",
    "    \n",
    "    print(soma)\n",
    "    count=count-1\n",
    "print(fatorial)"
   ]
  },
  {
   "cell_type": "code",
   "execution_count": null,
   "id": "43da6b5b",
   "metadata": {
    "ExecuteTime": {
     "start_time": "2021-07-12T17:16:58.191Z"
    }
   },
   "outputs": [],
   "source": [
    "from math import factorial\n",
    "\n",
    "count=1\n",
    "soma=0\n",
    "\n",
    "while count<=80000:\n",
    "    f=factorial(count)\n",
    "    soma=soma+(1/f)\n",
    "    count=count+1\n",
    "print(soma)\n",
    "    "
   ]
  },
  {
   "cell_type": "code",
   "execution_count": null,
   "id": "5e38014e",
   "metadata": {},
   "outputs": [],
   "source": [
    "1.7182818284590455"
   ]
  }
 ],
 "metadata": {
  "kernelspec": {
   "display_name": "Python 3",
   "language": "python",
   "name": "python3"
  },
  "language_info": {
   "codemirror_mode": {
    "name": "ipython",
    "version": 3
   },
   "file_extension": ".py",
   "mimetype": "text/x-python",
   "name": "python",
   "nbconvert_exporter": "python",
   "pygments_lexer": "ipython3",
   "version": "3.8.8"
  },
  "toc": {
   "base_numbering": 1,
   "nav_menu": {},
   "number_sections": true,
   "sideBar": true,
   "skip_h1_title": false,
   "title_cell": "Table of Contents",
   "title_sidebar": "Contents",
   "toc_cell": false,
   "toc_position": {},
   "toc_section_display": true,
   "toc_window_display": false
  }
 },
 "nbformat": 4,
 "nbformat_minor": 5
}
