{
 "cells": [
  {
   "cell_type": "markdown",
   "id": "0f82d92b",
   "metadata": {
    "ExecuteTime": {
     "end_time": "2021-07-09T01:09:38.995205Z",
     "start_time": "2021-07-09T01:09:38.979684Z"
    }
   },
   "source": [
    "#print('A data digitada foi {}/{}/{}'.format(dia, mes, ano))"
   ]
  },
  {
   "cell_type": "markdown",
   "id": "cbb991d6",
   "metadata": {
    "ExecuteTime": {
     "end_time": "2021-07-09T01:09:42.386767Z",
     "start_time": "2021-07-09T01:09:39.001245Z"
    }
   },
   "source": [
    "pip install jupyter_contrib_nbextensions"
   ]
  },
  {
   "cell_type": "markdown",
   "id": "bbaedc77",
   "metadata": {
    "ExecuteTime": {
     "end_time": "2021-07-09T01:09:45.351937Z",
     "start_time": "2021-07-09T01:09:42.389811Z"
    }
   },
   "source": [
    "!jupyter contrib nbextensions install"
   ]
  },
  {
   "cell_type": "markdown",
   "id": "f4d193ab",
   "metadata": {
    "ExecuteTime": {
     "end_time": "2021-07-09T01:09:46.601641Z",
     "start_time": "2021-07-09T01:09:45.359450Z"
    }
   },
   "source": [
    "!jupyter nbextensions_configurator enable"
   ]
  },
  {
   "cell_type": "code",
   "execution_count": null,
   "id": "81d727fb",
   "metadata": {
    "ExecuteTime": {
     "end_time": "2021-07-09T01:12:06.141118Z",
     "start_time": "2021-07-09T01:12:03.309525Z"
    }
   },
   "outputs": [],
   "source": [
    "#Faça um programa que peça a idade da pessoa e imprima se ela é maior ou menor de 18 anos.\n",
    "\n",
    "idade=int(input('Informe sua idade:'))\n",
    "if idade>=18:\n",
    "    print('Maior de 18 anos')\n",
    "else:\n",
    "    print('Menor de 18 anos')\n",
    "\n",
    "    "
   ]
  },
  {
   "cell_type": "code",
   "execution_count": null,
   "id": "8d446f70",
   "metadata": {
    "ExecuteTime": {
     "end_time": "2021-07-09T01:15:29.489129Z",
     "start_time": "2021-07-09T01:15:28.056141Z"
    }
   },
   "outputs": [],
   "source": [
    "#Faça um programa que peça um número e mostre se ele é positivo ou negativo.\n",
    "\n",
    "numero= float(input('Informe um número:'))\n",
    "\n",
    "if numero>=0:\n",
    "    print('Número positivo.')\n",
    "else:\n",
    "    print('Número negativo.')\n",
    "    "
   ]
  },
  {
   "cell_type": "code",
   "execution_count": null,
   "id": "b1f8df53",
   "metadata": {
    "ExecuteTime": {
     "end_time": "2021-07-09T01:22:18.103250Z",
     "start_time": "2021-07-09T01:22:15.221632Z"
    }
   },
   "outputs": [],
   "source": [
    "#Faça um programa que peça dois números e mostre o maior deles.\n",
    "num_1=float(input('Informe um número:'))\n",
    "num_2=float(input('Informe um número:'))\n",
    "\n",
    "if num_1>num_2:\n",
    "    print('O maior número é:',num_1)\n",
    "elif num_2>num_1:\n",
    "    print('O maior número é:',num_2)\n",
    "else:\n",
    "    print('Ambos são iguais.')\n",
    "    \n",
    "\n",
    "    "
   ]
  },
  {
   "cell_type": "code",
   "execution_count": null,
   "id": "40181fb1",
   "metadata": {
    "ExecuteTime": {
     "end_time": "2021-07-09T01:56:14.586902Z",
     "start_time": "2021-07-09T01:56:11.579411Z"
    }
   },
   "outputs": [],
   "source": [
    "#Escreva um programa que peça a nota de 3 provas de um aluno e mostre se ele passou ou não de ano.\n",
    "\n",
    "#Obs.: O aluno irá passar de ano se a média das suas notas for maior ou igual a 6 \n",
    "#(média é a soma das notas dividido pelo número de provas).\n",
    "\n",
    "lista_notas=[]\n",
    "count=1\n",
    "\n",
    "while count<=3:\n",
    "    notas=float(input('Informe a nota:'))\n",
    "    lista_notas.append(notas)\n",
    "    count=count+1\n",
    "media=sum(lista_notas)/len(lista_notas)\n",
    "\n",
    "if media>=6:\n",
    "    print('Aprovado',media)\n",
    "else:\n",
    "    print('Reprovado',media)\n",
    "\n",
    "\n",
    "    \n",
    "    "
   ]
  },
  {
   "cell_type": "code",
   "execution_count": null,
   "id": "e9d4be41",
   "metadata": {
    "ExecuteTime": {
     "end_time": "2021-07-09T17:26:16.662665Z",
     "start_time": "2021-07-09T17:26:08.802683Z"
    }
   },
   "outputs": [],
   "source": [
    "#Faça um programa que mostre uma questão de múltipla escolha com 5 opções (letras a, b, c, d, e). \n",
    "#Sabendo a resposta certa, o programa deve receber a opção do usuário e informar a letra que o usuário marcou \n",
    "#e se a resposta está certa ou errada.\n",
    "\n",
    "from datetime import date # de uma bibliote impotar a função data~.\n",
    "import calendar\n",
    "pergunta=print('Pergunta-','Qual dia é hoje?')\n",
    "a=print('a-','Monday')\n",
    "b=print('b-','Tuesday')\n",
    "c=print('c-','Wednesday')\n",
    "d=print('d-','Tursday')\n",
    "e=print('e-','Friday')\n",
    "\n",
    "resp=str(input('Qual é a resposta correta em inglês?'))\n",
    "\n",
    "hoje=date.today()  #Buscar a data atual.\n",
    "semana=date.weekday(hoje) #Buscar o dia da semana.\n",
    "nome=calendar.day_name[semana] #Buscar o nome do dia da semana.\n",
    "\n",
    "if resp==nome:\n",
    "    print('Resposta correta',nome)\n",
    "\n",
    "else:\n",
    "    print('Resposta incorreta',',a resposta certa é',nome)\n",
    "    \n"
   ]
  },
  {
   "cell_type": "markdown",
   "id": "46f51f53",
   "metadata": {},
   "source": [
    "Vamos fazer um programa para verificar quem é o assassino de um crime. Para descobrir o assassino, a polícia faz um pequeno questionário com 5 perguntas onde a resposta só pode ser sim ou não:\n",
    "\n",
    "a. Mora perto da vítima?\n",
    "\n",
    "b. Já trabalhou com a vítima?\n",
    "\n",
    "c. Telefonou para a vítima?\n",
    "\n",
    "d. Esteve no local do crime?\n",
    "\n",
    "e. Devia para a vítima?\n",
    "\n",
    "Cada resposta sim dá um ponto para o suspeito. A polícia considera que os suspeitos com 5 pontos são os assassinos, com 4 a 3 pontos são cúmplices e 2 pontos são apenas suspeitos, necessitando outras investigações. Valores abaixo de 1 são liberados."
   ]
  },
  {
   "cell_type": "code",
   "execution_count": null,
   "id": "c19df6b2",
   "metadata": {
    "ExecuteTime": {
     "end_time": "2021-07-09T18:20:16.970801Z",
     "start_time": "2021-07-09T18:20:10.432706Z"
    }
   },
   "outputs": [],
   "source": [
    "\n",
    "print('Investigação-Crime XX')\n",
    "\n",
    "lista_total=[]\n",
    "\n",
    "a= str(input('a-Mora perto da vítima(sim ou não)?'))\n",
    "b= str(input('b-Já trabalhou com a vítima(sim ou não)?'))\n",
    "c= str(input('c-Telefonou para a vítima(sim ou não)?'))\n",
    "d= str(input('d-Esteve no local do crime(sim ou não)?'))\n",
    "e= str(input('e-Devia para a vítima(sim ou não)?'))\n",
    "\n",
    "lista_total.append(a)\n",
    "lista_total.append(b)\n",
    "lista_total.append(c)\n",
    "lista_total.append(d)\n",
    "lista_total.append(e)\n",
    "\n",
    "total=0\n",
    "for elemento in lista_total:\n",
    "        if elemento=='sim':\n",
    "            total=total+1\n",
    "if total==5:\n",
    "    print('Assassino')\n",
    "elif total>=3:\n",
    "    print('Cúmplice')\n",
    "elif total==2:\n",
    "    print('Suspeito')\n",
    "else:\n",
    "    print('Liberado')\n",
    "    "
   ]
  },
  {
   "cell_type": "markdown",
   "id": "46e58fc2",
   "metadata": {
    "ExecuteTime": {
     "end_time": "2021-07-09T13:31:43.239589Z",
     "start_time": "2021-07-09T13:31:43.234807Z"
    }
   },
   "source": [
    "Faça um programa em que o usuário tem que adivinhar o número escolhido pelo computador. O computador deve sortear um número inteiro de 1 a 5 e pedir para o usuário tentar descobrir qual o número sorteado. Após o usuário digitar sua resposta, o programa deve dizer se ele acertou ou não. Dica: para sortear um número, você precisará utilizar a biblioteca random."
   ]
  },
  {
   "cell_type": "code",
   "execution_count": 35,
   "id": "cc435297",
   "metadata": {
    "ExecuteTime": {
     "end_time": "2021-07-09T18:37:05.882990Z",
     "start_time": "2021-07-09T18:36:58.381407Z"
    }
   },
   "outputs": [
    {
     "name": "stdout",
     "output_type": "stream",
     "text": [
      "Você deve adivinhar o númeoro escolhido pelo computador.Qual é o númeo?1\n",
      "Parabéns,você acertou!\n"
     ]
    }
   ],
   "source": [
    "import random\n",
    "sorteio=random.randrange(1,6)\n",
    "num=int(input('Você deve adivinhar o número escolhido pelo computador.Qual é o número?'))\n",
    "if num==sorteio:\n",
    "    print('Parabéns,você acertou!')\n",
    "else:\n",
    "    print('Por favor,tente outra vez!')\n",
    "    "
   ]
  },
  {
   "cell_type": "markdown",
   "id": "ccc5529e",
   "metadata": {},
   "source": [
    "Vamos fazer um radar eletrônico de velocidade. Faça um programa que leia a velocidade de um carro, e diga se ele está acima ou não da velocidade permitida de 50 km/h. Se o carro estiver acima da velocidade, o programa deve imprimir que o motorista ultrapassou a velocidade permitida e recebeu uma multa num determinado valor. Para calcular o valor da multa, considere que para cada quilômetro acima da velocidade permitida, o motorista deve pagar 10 reais."
   ]
  },
  {
   "cell_type": "code",
   "execution_count": 49,
   "id": "2ec3eed7",
   "metadata": {
    "ExecuteTime": {
     "end_time": "2021-07-09T19:01:22.342222Z",
     "start_time": "2021-07-09T19:01:22.331956Z"
    }
   },
   "outputs": [
    {
     "name": "stdout",
     "output_type": "stream",
     "text": [
      "Atenção, você ultrapassou a velocidade permitida de 50km/h e recebeu uma multa de R$ 70\n"
     ]
    }
   ],
   "source": [
    "import random\n",
    "\n",
    "velocidade=random.randrange(120)\n",
    "if velocidade>50:\n",
    "    multa=(velocidade-50)*10\n",
    "    print('Atenção, você ultrapassou a velocidade permitida de 50km/h e recebeu uma multa de R$',multa)\n",
    "else:\n",
    "    print('Boa viagem!')\n",
    "\n",
    "#Não encontrei o comando para formatação em moeda do brasil,tente usar a biblioteca locale mas não funcionou.\n",
    "\n"
   ]
  },
  {
   "cell_type": "markdown",
   "id": "02840ed6",
   "metadata": {},
   "source": [
    "Com a recomendação que as pessoas fiquem em casa e evitem aglomerações como medida pra frear a contaminação pelo coronavírus, como saber quando devemos procurar um hospital? Faça um programa que pergunte os sintomas que a pessoa apresenta e responda se ela deve ou não procurar um hospital.\n",
    "\n",
    "Sintomas: a. Você tem febre persistente? b. Você tem dificuldade para respirar?\n",
    "\n",
    "A resposta do programa deve seguir a seguinte tabela:\n",
    "\n",
    "A\tB\tResultado\n",
    "Sim\tNão\tFique em casa\n",
    "Não\tSim\tFique em casa\n",
    "Não\tNão\tFique em casa\n",
    "Sim\tSim\tProcure um hospital\n"
   ]
  },
  {
   "cell_type": "code",
   "execution_count": 51,
   "id": "49e174b5",
   "metadata": {
    "ExecuteTime": {
     "end_time": "2021-07-09T19:14:03.225427Z",
     "start_time": "2021-07-09T19:13:56.467053Z"
    }
   },
   "outputs": [
    {
     "name": "stdout",
     "output_type": "stream",
     "text": [
      "COVID-19\n",
      "a-Você tem febre persistente(sim ou não?não\n",
      "b-Você tem dificuldade para respirar(sim ou não?sim\n",
      "Fique em casa.\n"
     ]
    }
   ],
   "source": [
    "print('COVID-19')\n",
    "\n",
    "lista_total=[]\n",
    "\n",
    "a= str(input('a-Você tem febre persistente(sim ou não?'))\n",
    "b= str(input('b-Você tem dificuldade para respirar(sim ou não?'))\n",
    "\n",
    "\n",
    "lista_total.append(a)\n",
    "lista_total.append(b)\n",
    "\n",
    "total=0\n",
    "for elemento in lista_total:\n",
    "        if elemento=='sim':\n",
    "            total=total+1\n",
    "if total==2:\n",
    "    print('Procure um hospital.')\n",
    "    \n",
    "else:\n",
    "    print('Fique em casa.')\n",
    "\n",
    "\n",
    "    \n",
    "\n"
   ]
  }
 ],
 "metadata": {
  "kernelspec": {
   "display_name": "Python 3",
   "language": "python",
   "name": "python3"
  },
  "language_info": {
   "codemirror_mode": {
    "name": "ipython",
    "version": 3
   },
   "file_extension": ".py",
   "mimetype": "text/x-python",
   "name": "python",
   "nbconvert_exporter": "python",
   "pygments_lexer": "ipython3",
   "version": "3.8.8"
  },
  "toc": {
   "base_numbering": 1,
   "nav_menu": {
    "height": "166px",
    "width": "258px"
   },
   "number_sections": true,
   "sideBar": true,
   "skip_h1_title": false,
   "title_cell": "Table of Contents",
   "title_sidebar": "Contents",
   "toc_cell": false,
   "toc_position": {},
   "toc_section_display": true,
   "toc_window_display": false
  }
 },
 "nbformat": 4,
 "nbformat_minor": 5
}
