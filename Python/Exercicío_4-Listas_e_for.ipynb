{
 "cells": [
  {
   "cell_type": "markdown",
   "id": "47ceaf64",
   "metadata": {},
   "source": [
    "Crie uma lista qualquer e faça um programa que imprima cada elemento da lista usando o for."
   ]
  },
  {
   "cell_type": "code",
   "execution_count": 7,
   "id": "2f79bdf5",
   "metadata": {
    "ExecuteTime": {
     "end_time": "2021-07-12T17:26:10.123221Z",
     "start_time": "2021-07-12T17:26:10.116793Z"
    }
   },
   "outputs": [
    {
     "name": "stdout",
     "output_type": "stream",
     "text": [
      "1\n",
      "2\n",
      "3\n",
      "4\n",
      "5\n",
      "6\n"
     ]
    }
   ],
   "source": [
    "lista=[1,2,3,4,5,6]\n",
    "\n",
    "for elemento in lista:\n",
    "    print(elemento)\n",
    "\n",
    "    "
   ]
  },
  {
   "cell_type": "markdown",
   "id": "31563f82",
   "metadata": {},
   "source": [
    "Faça um programa que imprima todos os itens de uma lista usando while e compare com o exercício 1."
   ]
  },
  {
   "cell_type": "code",
   "execution_count": 9,
   "id": "8cf33ef6",
   "metadata": {
    "ExecuteTime": {
     "end_time": "2021-07-12T17:28:43.841355Z",
     "start_time": "2021-07-12T17:28:43.828671Z"
    }
   },
   "outputs": [
    {
     "name": "stdout",
     "output_type": "stream",
     "text": [
      "1\n",
      "2\n",
      "3\n",
      "4\n",
      "5\n",
      "6\n"
     ]
    },
    {
     "ename": "IndexError",
     "evalue": "list index out of range",
     "output_type": "error",
     "traceback": [
      "\u001b[1;31m---------------------------------------------------------------------------\u001b[0m",
      "\u001b[1;31mIndexError\u001b[0m                                Traceback (most recent call last)",
      "\u001b[1;32m<ipython-input-9-f536b204cd67>\u001b[0m in \u001b[0;36m<module>\u001b[1;34m\u001b[0m\n\u001b[0;32m      2\u001b[0m \u001b[0mcount\u001b[0m\u001b[1;33m=\u001b[0m\u001b[1;36m0\u001b[0m\u001b[1;33m\u001b[0m\u001b[1;33m\u001b[0m\u001b[0m\n\u001b[0;32m      3\u001b[0m \u001b[1;32mwhile\u001b[0m \u001b[0mcount\u001b[0m\u001b[1;33m<=\u001b[0m\u001b[0mlen\u001b[0m\u001b[1;33m(\u001b[0m\u001b[0mlista\u001b[0m\u001b[1;33m)\u001b[0m\u001b[1;33m:\u001b[0m\u001b[1;33m\u001b[0m\u001b[1;33m\u001b[0m\u001b[0m\n\u001b[1;32m----> 4\u001b[1;33m     \u001b[0mprint\u001b[0m\u001b[1;33m(\u001b[0m\u001b[0mlista\u001b[0m\u001b[1;33m[\u001b[0m\u001b[0mcount\u001b[0m\u001b[1;33m]\u001b[0m\u001b[1;33m)\u001b[0m\u001b[1;33m\u001b[0m\u001b[1;33m\u001b[0m\u001b[0m\n\u001b[0m\u001b[0;32m      5\u001b[0m     \u001b[0mcount\u001b[0m\u001b[1;33m=\u001b[0m\u001b[0mcount\u001b[0m\u001b[1;33m+\u001b[0m\u001b[1;36m1\u001b[0m\u001b[1;33m\u001b[0m\u001b[1;33m\u001b[0m\u001b[0m\n",
      "\u001b[1;31mIndexError\u001b[0m: list index out of range"
     ]
    }
   ],
   "source": [
    "lista=[1,2,3,4,5,6]\n",
    "count=0\n",
    "while count<=len(lista):\n",
    "    print(lista[count])\n",
    "    count=count+1\n",
    "#O tempo de execução é maior!De 7ms para 13ms."
   ]
  },
  {
   "cell_type": "markdown",
   "id": "d981935f",
   "metadata": {},
   "source": [
    "Faça um programa que peça para o usuário digitar um número n e imprima uma lista com todos os números de 0 a n-1.\n",
    "\n",
    "Exemplo: se o usuário digitar 5, o programa deve imprimir [0, 1, 2, 3, 4]"
   ]
  },
  {
   "cell_type": "code",
   "execution_count": 37,
   "id": "b1f92165",
   "metadata": {
    "ExecuteTime": {
     "end_time": "2021-07-12T17:52:29.531463Z",
     "start_time": "2021-07-12T17:52:27.996296Z"
    }
   },
   "outputs": [
    {
     "name": "stdout",
     "output_type": "stream",
     "text": [
      "Por favor,informe um número:5\n",
      "[0, 1, 2, 3, 4]\n"
     ]
    }
   ],
   "source": [
    "n=int(input('Por favor,informe um número:'))\n",
    "lista=[]\n",
    "count=0\n",
    "#lista.append(n)\n",
    "while count<=(n-1):\n",
    "    lista.append(count)\n",
    "    count=count+1\n",
    "print(lista)\n"
   ]
  },
  {
   "cell_type": "markdown",
   "id": "3e42eb67",
   "metadata": {},
   "source": [
    "Faça um programa que olhe todos os itens de uma lista e diga quantos deles são pares."
   ]
  },
  {
   "cell_type": "code",
   "execution_count": 41,
   "id": "7b7d2c88",
   "metadata": {
    "ExecuteTime": {
     "end_time": "2021-07-12T17:58:01.061867Z",
     "start_time": "2021-07-12T17:58:01.054495Z"
    }
   },
   "outputs": [
    {
     "name": "stdout",
     "output_type": "stream",
     "text": [
      "Quantidade de elementos pares: 5\n"
     ]
    }
   ],
   "source": [
    "lista=[1,2,3,4,5,6,7,8,9,10]\n",
    "lista_par=[]\n",
    "lista_impar=[]\n",
    "for elemento in lista:\n",
    "    if elemento % 2==0:\n",
    "        lista_par.append(elemento)\n",
    "print('Quantidade de elementos pares:',len(lista_par))\n"
   ]
  },
  {
   "cell_type": "markdown",
   "id": "d334134d",
   "metadata": {},
   "source": [
    "Faça um programa que imprima o maior número de uma lista, sem usar a função max()."
   ]
  },
  {
   "cell_type": "code",
   "execution_count": 54,
   "id": "634417d8",
   "metadata": {
    "ExecuteTime": {
     "end_time": "2021-07-12T18:11:25.605551Z",
     "start_time": "2021-07-12T18:11:25.598312Z"
    }
   },
   "outputs": [
    {
     "name": "stdout",
     "output_type": "stream",
     "text": [
      "11\n"
     ]
    }
   ],
   "source": [
    "lista=[11,2,3,4,5,6,7,8,9,10]\n",
    "lista=sorted(lista)\n",
    "posicao=len(lista)-1\n",
    "maior_elemento=lista[posicao]\n",
    "print(maior_elemento)\n",
    "\n"
   ]
  },
  {
   "cell_type": "markdown",
   "id": "70c40224",
   "metadata": {},
   "source": [
    "Agora usando a função max() faça um programa que imprima os três maiores números de uma lista.\n",
    "\n",
    "Dica: Use o método próprio de listas .remove()."
   ]
  },
  {
   "cell_type": "code",
   "execution_count": 58,
   "id": "0c12fbb4",
   "metadata": {
    "ExecuteTime": {
     "end_time": "2021-07-12T18:20:17.083332Z",
     "start_time": "2021-07-12T18:20:17.075467Z"
    }
   },
   "outputs": [
    {
     "name": "stdout",
     "output_type": "stream",
     "text": [
      "[11, 10, 9]\n"
     ]
    }
   ],
   "source": [
    "lista=[11,2,3,4,5,6,7,8,9,10]\n",
    "lista_max=[]\n",
    "count=1\n",
    "while count<=3:\n",
    "    maior=max(lista)\n",
    "    lista.remove(maior)\n",
    "    lista_max.append(maior)\n",
    "    count=count+1\n",
    "    \n",
    "print(lista_max)"
   ]
  },
  {
   "cell_type": "markdown",
   "id": "4f2998c1",
   "metadata": {},
   "source": [
    "Faça um programa que, dadas duas listas de mesmo tamanho, crie uma nova lista com cada elemento igual a soma dos elementos da lista 1 com os da lista 2, na mesma posição.\n",
    "\n",
    "Exemplo:\n",
    "\n",
    "Dadas lista1 = [1, 4, 5] e lista2 = [2, 2, 3], então lista3 = [1+2, 4+2, 5+3] = [3, 6, 8]"
   ]
  },
  {
   "cell_type": "code",
   "execution_count": 4,
   "id": "3c37c5c4",
   "metadata": {
    "ExecuteTime": {
     "end_time": "2021-07-13T12:55:54.666420Z",
     "start_time": "2021-07-13T12:55:54.636669Z"
    }
   },
   "outputs": [
    {
     "name": "stdout",
     "output_type": "stream",
     "text": [
      "[3, 6, 8]\n"
     ]
    }
   ],
   "source": [
    "lista=[1,4,5]\n",
    "lista2=[2,2,3]\n",
    "\n",
    "lista_soma=[elementoA+elementoB for elementoA,elementoB in zip(lista,lista2) ]  #zip para + que uma lista.\n",
    "\n",
    "print(lista_soma)\n"
   ]
  },
  {
   "cell_type": "markdown",
   "id": "8b178120",
   "metadata": {},
   "source": [
    "Faça um programa que dadas duas listas de mesmo tamanho, imprima o produto escalar entre elas.\n",
    "\n",
    "OBS: produto escalar é a soma do resultado da multiplicação entre o número na posição i da lista1 pelo número na posição i da lista2, com i variando de 0 ao tamanho da lista."
   ]
  },
  {
   "cell_type": "code",
   "execution_count": 6,
   "id": "b6102e67",
   "metadata": {
    "ExecuteTime": {
     "end_time": "2021-07-13T12:59:35.371150Z",
     "start_time": "2021-07-13T12:59:35.364894Z"
    }
   },
   "outputs": [
    {
     "name": "stdout",
     "output_type": "stream",
     "text": [
      "[2, 8, 15]\n",
      "25\n"
     ]
    }
   ],
   "source": [
    "lista=[1,4,5]\n",
    "lista2=[2,2,3]\n",
    "\n",
    "lista_prod=[elementoA*elementoB for elementoA,elementoB in zip(lista,lista2) ]\n",
    "lista_total=sum(lista_prod)\n",
    "print(lista_prod)\n",
    "print(lista_total)"
   ]
  },
  {
   "cell_type": "markdown",
   "id": "387c5ad8",
   "metadata": {},
   "source": [
    "Faça um programa que pede para o usuário digitar 5 números e, ao final, imprime uma lista com os 5 números digitados pelo usuário (sem converter os números para int ou float).\n",
    "\n",
    "Exemplo: Se o usuário digitar 1, 5, 2, 3, 6, o programa deve imprimir a lista ['1','5','2','3','6']"
   ]
  },
  {
   "cell_type": "code",
   "execution_count": 9,
   "id": "16dc19a0",
   "metadata": {
    "ExecuteTime": {
     "end_time": "2021-07-13T13:05:36.408400Z",
     "start_time": "2021-07-13T13:05:28.941572Z"
    }
   },
   "outputs": [
    {
     "name": "stdout",
     "output_type": "stream",
     "text": [
      "Informe um número:5\n",
      "Informe um número:4\n",
      "Informe um número:3\n",
      "Informe um número:2\n",
      "Informe um número:1\n",
      "['5', '4', '3', '2', '1']\n"
     ]
    }
   ],
   "source": [
    "\n",
    "lista=[]\n",
    "for i in range(5):\n",
    "    n=input('Informe um número:')\n",
    "    lista.append(n)\n",
    "print(lista)\n",
    "\n",
    "\n"
   ]
  },
  {
   "cell_type": "markdown",
   "id": "a35e6b5b",
   "metadata": {},
   "source": [
    "Pegue a lista gerada no exercício anterior e transforme cada um dos itens dessa lista em um float.\n",
    "\n",
    "OBS: Não é para alterar o programa anterior, mas sim a lista gerada por ele."
   ]
  },
  {
   "cell_type": "code",
   "execution_count": 16,
   "id": "5acb6c67",
   "metadata": {
    "ExecuteTime": {
     "end_time": "2021-07-13T13:19:02.395924Z",
     "start_time": "2021-07-13T13:19:02.383495Z"
    }
   },
   "outputs": [
    {
     "name": "stdout",
     "output_type": "stream",
     "text": [
      "[5.0, 4.0, 3.0, 2.0, 1.0]\n"
     ]
    },
    {
     "data": {
      "text/plain": [
       "list"
      ]
     },
     "execution_count": 16,
     "metadata": {},
     "output_type": "execute_result"
    }
   ],
   "source": [
    "lista=['5', '4', '3', '2', '1']\n",
    "lista_num=[]\n",
    "for letra in lista:\n",
    "    num=float(letra)\n",
    "    lista_num.append(num)\n",
    "print(lista_num)\n",
    "\n",
    "    \n"
   ]
  },
  {
   "cell_type": "markdown",
   "id": "ad9c5eb6",
   "metadata": {},
   "source": [
    "Faça um programa que peça as 4 notas bimestrais e mostre a média aritmética delas, usando listas."
   ]
  },
  {
   "cell_type": "code",
   "execution_count": 18,
   "id": "5d12bbe8",
   "metadata": {
    "ExecuteTime": {
     "end_time": "2021-07-13T13:22:52.966005Z",
     "start_time": "2021-07-13T13:22:47.959370Z"
    }
   },
   "outputs": [
    {
     "name": "stdout",
     "output_type": "stream",
     "text": [
      "Informe a nota:5\n",
      "Informe a nota:4\n",
      "Informe a nota:8\n",
      "Informe a nota:10\n",
      "[5, 4, 8, 10]\n",
      "Sua média é 6.75.\n"
     ]
    }
   ],
   "source": [
    "lista_notas=[]\n",
    "for i in range(4):\n",
    "    notas=int(input('Informe a nota:'))\n",
    "    lista_notas.append(notas)\n",
    "print(lista_notas)\n",
    "media=sum(lista_notas)/len(lista_notas)\n",
    "print('Sua média é {}.'.format(media))\n"
   ]
  },
  {
   "cell_type": "markdown",
   "id": "2773fd3a",
   "metadata": {},
   "source": [
    "Sorteie uma lista de 10 números e imprima:\n",
    "\n",
    "a. uma lista com os 4 primeiros números;\n",
    "\n",
    "b. uma lista com os 5 últimos números;\n",
    "\n",
    "c. uma lista contendo apenas os elementos das posições pares;\n",
    "\n",
    "d. uma lista contendo apenas os elementos das posições ímpares;\n",
    "\n",
    "e. a lista inversa da lista sorteada (isto é, uma lista que começa com o último elemento da lista sorteada e termina com o primeiro);\n",
    "\n",
    "f. uma lista inversa dos 5 primeiros números;\n",
    "\n",
    "g. uma lista inversa dos 5 últimos números."
   ]
  },
  {
   "cell_type": "code",
   "execution_count": 44,
   "id": "e8ccd6ae",
   "metadata": {
    "ExecuteTime": {
     "end_time": "2021-07-13T13:56:43.404620Z",
     "start_time": "2021-07-13T13:56:43.394987Z"
    }
   },
   "outputs": [
    {
     "name": "stdout",
     "output_type": "stream",
     "text": [
      "Lista sorteio- [9, 3, 1, 2, 3, 2, 10, 1, 9, 10]\n",
      "a- [9, 3, 1, 2]\n",
      "b- [2, 10, 1, 9, 10]\n",
      "c- [9, 1, 3, 10, 9]\n",
      "d- [3, 2, 2, 1, 10]\n",
      "e- [10, 9, 1, 10, 2, 3, 2, 1, 3, 9]\n",
      "f- [3, 2, 1, 3, 9]\n",
      "g- [10, 9, 1, 10, 2]\n"
     ]
    }
   ],
   "source": [
    "import random\n",
    "\n",
    "count=0\n",
    "lista_sorteio=[]\n",
    "\n",
    "for i in range(10):\n",
    "    sorteio=random.randint(1,10)\n",
    "    lista_sorteio.append(sorteio)\n",
    "print('Lista sorteio-',lista_sorteio)\n",
    "\n",
    "lista_a=print('a-',lista_sorteio[:4])\n",
    "lista_b=print('b-',lista_sorteio[5:])\n",
    "lista_c=print('c-',lista_sorteio[::2])\n",
    "lista_d=print('d-',lista_sorteio[1::2])\n",
    "lista_e=print('e-',lista_sorteio[::-1])\n",
    "lista_f=print('f-',lista_sorteio[4::-1])\n",
    "lista_g=print('g-',lista_sorteio[:4:-1])\n"
   ]
  }
 ],
 "metadata": {
  "kernelspec": {
   "display_name": "Python 3",
   "language": "python",
   "name": "python3"
  },
  "language_info": {
   "codemirror_mode": {
    "name": "ipython",
    "version": 3
   },
   "file_extension": ".py",
   "mimetype": "text/x-python",
   "name": "python",
   "nbconvert_exporter": "python",
   "pygments_lexer": "ipython3",
   "version": "3.8.8"
  },
  "toc": {
   "base_numbering": 1,
   "nav_menu": {},
   "number_sections": true,
   "sideBar": true,
   "skip_h1_title": false,
   "title_cell": "Table of Contents",
   "title_sidebar": "Contents",
   "toc_cell": false,
   "toc_position": {},
   "toc_section_display": true,
   "toc_window_display": false
  }
 },
 "nbformat": 4,
 "nbformat_minor": 5
}
